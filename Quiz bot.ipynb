{
 "cells": [
  {
   "cell_type": "code",
   "execution_count": 1,
   "id": "d035beba-acba-4002-bee2-8d2d908a9900",
   "metadata": {},
   "outputs": [
    {
     "name": "stdout",
     "output_type": "stream",
     "text": [
      "welcome to quiz bot \n"
     ]
    },
    {
     "name": "stdin",
     "output_type": "stream",
     "text": [
      "please enter you no. y\n"
     ]
    },
    {
     "name": "stdout",
     "output_type": "stream",
     "text": [
      "Hello y You current score is 0\n"
     ]
    },
    {
     "name": "stdin",
     "output_type": "stream",
     "text": [
      "1 . What is the National_bird of india ee\n"
     ]
    },
    {
     "name": "stdout",
     "output_type": "stream",
     "text": [
      "Your answer is incorect\n",
      "Your current score is -5\n"
     ]
    },
    {
     "name": "stdin",
     "output_type": "stream",
     "text": [
      "2 . What is the PM of india narendra modi\n"
     ]
    },
    {
     "name": "stdout",
     "output_type": "stream",
     "text": [
      "Your answer is correct\n",
      "Your current score is 5\n"
     ]
    },
    {
     "name": "stdin",
     "output_type": "stream",
     "text": [
      "3. What is the capital of France? paris\n"
     ]
    },
    {
     "name": "stdout",
     "output_type": "stream",
     "text": [
      "Your answer is correct\n",
      "Your current score is 15\n"
     ]
    },
    {
     "name": "stdin",
     "output_type": "stream",
     "text": [
      "4.Who is known as the \"Father of Computers\" charles babbage\n"
     ]
    },
    {
     "name": "stdout",
     "output_type": "stream",
     "text": [
      "Your answer is correct\n",
      "Your current score is 25\n"
     ]
    },
    {
     "name": "stdin",
     "output_type": "stream",
     "text": [
      "5.What is the largest mammal in the world? blue whale\n"
     ]
    },
    {
     "name": "stdout",
     "output_type": "stream",
     "text": [
      "Your answer is correct\n",
      "Your current score is 35\n"
     ]
    }
   ],
   "source": [
    "#quiz Bot \n",
    "# Welcome user \n",
    "print(\"welcome to quiz bot \")\n",
    "#Ask user its name \n",
    "username = input('please enter you no.')\n",
    "#Set user score \n",
    "userscore=0\n",
    "#Greet user\n",
    "print('Hello',username,'You current score is', userscore)\n",
    "##ask questions\n",
    "national_bird=input('1 . What is the National_bird of india')\n",
    "if national_bird.lower()=='peacock':\n",
    "     print('Your answer is correct')\n",
    "     userscore = userscore+10\n",
    "     print('Your current score is',userscore)\n",
    "else :\n",
    "      print('Your answer is incorect')\n",
    "      userscore = userscore-5\n",
    "      print('Your current score is',userscore)\n",
    "    \n",
    "PM_India=input('2 . What is the PM of india')\n",
    "if PM_India.lower()=='narendra modi':\n",
    "     print('Your answer is correct')\n",
    "     userscore = userscore+10\n",
    "     print('Your current score is',userscore)\n",
    "else :\n",
    "      print('Your answer is incorect')\n",
    "      userscore = userscore-5\n",
    "      print('Your current score is',userscore)\n",
    "\n",
    "france= input('3. What is the capital of France?')\n",
    "if france.lower()=='paris':\n",
    "     print('Your answer is correct')\n",
    "     userscore = userscore+10\n",
    "     print('Your current score is',userscore)\n",
    "else :\n",
    "      print('Your answer is incorect')\n",
    "      userscore = userscore-5\n",
    "      print('Your current score is',userscore)\n",
    "    \n",
    "computer= input('4.Who is known as the \"Father of Computers\"')\n",
    "if computer.lower()=='charles babbage':\n",
    "     print('Your answer is correct')\n",
    "     userscore = userscore+10\n",
    "     print('Your current score is',userscore)\n",
    "else :\n",
    "      print('Your answer is incorect')\n",
    "      userscore = userscore-5\n",
    "      print('Your current score is',userscore)\n",
    "\n",
    "mammel= input('5.What is the largest mammal in the world?')\n",
    "if mammel.lower()=='blue whale':\n",
    "     print('Your answer is correct')\n",
    "     userscore = userscore+10\n",
    "     print('Your current score is',userscore)\n",
    "else :\n",
    "      print('Your answer is incorect')\n",
    "      userscore = userscore-5\n",
    "      print('Your current score is',userscore)\n",
    "\n"
   ]
  },
  {
   "cell_type": "code",
   "execution_count": null,
   "id": "d1bb4f3e-0b9d-4fb9-b780-3ee4d6db4f93",
   "metadata": {},
   "outputs": [],
   "source": []
  }
 ],
 "metadata": {
  "kernelspec": {
   "display_name": "Python 3 (ipykernel)",
   "language": "python",
   "name": "python3"
  },
  "language_info": {
   "codemirror_mode": {
    "name": "ipython",
    "version": 3
   },
   "file_extension": ".py",
   "mimetype": "text/x-python",
   "name": "python",
   "nbconvert_exporter": "python",
   "pygments_lexer": "ipython3",
   "version": "3.12.4"
  }
 },
 "nbformat": 4,
 "nbformat_minor": 5
}
